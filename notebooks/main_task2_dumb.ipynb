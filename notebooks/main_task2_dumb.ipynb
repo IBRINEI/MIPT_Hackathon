{
 "cells": [
  {
   "cell_type": "code",
   "execution_count": 6,
   "id": "initial_id",
   "metadata": {
    "ExecuteTime": {
     "end_time": "2024-04-08T13:20:35.443944Z",
     "start_time": "2024-04-08T13:20:34.520757Z"
    }
   },
   "outputs": [],
   "source": [
    "import lasio\n",
    "import os\n",
    "import matplotlib.pyplot as plt\n",
    "import numpy as np\n",
    "import pandas as pd\n",
    "from prov import identifier\n",
    "\n",
    "\n",
    "import view_well_file\n",
    "import interpolation"
   ]
  },
  {
   "cell_type": "markdown",
   "id": "b5020c03",
   "metadata": {},
   "source": [
    "# Стандартная загрузка всех файлов "
   ]
  },
  {
   "cell_type": "code",
   "execution_count": 7,
   "id": "c3437ea7fd14edcc",
   "metadata": {
    "ExecuteTime": {
     "end_time": "2024-04-08T13:24:21.423716Z",
     "start_time": "2024-04-08T13:24:21.413199Z"
    }
   },
   "outputs": [
    {
     "data": {
      "text/plain": [
       "<module 'view_well_file' from 'C:\\\\Users\\\\1\\\\Downloads\\\\view_well_file.py'>"
      ]
     },
     "execution_count": 7,
     "metadata": {},
     "output_type": "execute_result"
    }
   ],
   "source": [
    "import importlib\n",
    "importlib.reload(view_well_file)\n"
   ]
  },
  {
   "cell_type": "code",
   "execution_count": 8,
   "id": "26a09c13deae0bec",
   "metadata": {
    "ExecuteTime": {
     "end_time": "2024-04-08T13:20:39.659126Z",
     "start_time": "2024-04-08T13:20:39.648156Z"
    }
   },
   "outputs": [],
   "source": [
    "DATA_DIR = \"..\\\\data\\\\las\"\n",
    "EXCEL_DIR = \"..\\\\data\""
   ]
  },
  {
   "cell_type": "code",
   "execution_count": 9,
   "id": "72565b2042a67971",
   "metadata": {
    "ExecuteTime": {
     "end_time": "2024-04-08T13:20:39.952710Z",
     "start_time": "2024-04-08T13:20:39.938746Z"
    }
   },
   "outputs": [],
   "source": [
    "well_idx = []"
   ]
  },
  {
   "cell_type": "code",
   "execution_count": 10,
   "id": "4579e613d09ae996",
   "metadata": {
    "ExecuteTime": {
     "end_time": "2024-04-08T13:20:40.124286Z",
     "start_time": "2024-04-08T13:20:40.109326Z"
    }
   },
   "outputs": [
    {
     "name": "stdout",
     "output_type": "stream",
     "text": [
      "12_continuous.las\n",
      "12_discrete.las\n",
      "13_continuous.las\n",
      "13_discrete.las\n",
      "14_continuous.las\n",
      "14_discrete.las\n",
      "15_continuous.las\n",
      "15_discrete.las\n",
      "16_continuous.las\n",
      "16_discrete.las\n",
      "17_continuous.las\n",
      "17_discrete.las\n",
      "18_continuous.las\n",
      "18_discrete.las\n",
      "19_continuous.las\n",
      "19_discrete.las\n",
      "20_continuous.las\n",
      "20_discrete.las\n",
      "22_continuous.las\n",
      "22_discrete.las\n",
      "23_continuous.las\n",
      "23_discrete.las\n",
      "24_continuous.las\n",
      "24_discrete.las\n",
      "25_continuous.las\n",
      "25_discrete.las\n",
      "26_continuous.las\n",
      "26_discrete.las\n",
      "27_continuous.las\n",
      "27_discrete.las\n",
      "28_continuous.las\n",
      "28_discrete.las\n",
      "29_continuous.las\n",
      "29_discrete.las\n",
      "30_continuous.las\n",
      "30_discrete.las\n",
      "31_continuous.las\n",
      "31_discrete.las\n",
      "33_continuous.las\n",
      "33_discrete.las\n",
      "34_continuous.las\n",
      "34_discrete.las\n",
      "35_continuous.las\n",
      "35_discrete.las\n",
      "36_continuous.las\n",
      "36_discrete.las\n",
      "37_continuous.las\n",
      "37_discrete.las\n",
      "38_continuous.las\n",
      "38_discrete.las\n",
      "39_continuous.las\n",
      "39_discrete.las\n",
      "40_continuous.las\n",
      "40_discrete.las\n",
      "41_continuous.las\n",
      "41_discrete.las\n",
      "42_continuous.las\n",
      "42_discrete.las\n",
      "43_continuous.las\n",
      "43_discrete.las\n",
      "44_continuous.las\n",
      "44_discrete.las\n",
      "45_continuous.las\n",
      "45_discrete.las\n",
      "46_continuous.las\n",
      "46_discrete.las\n",
      "47_continuous.las\n",
      "47_discrete.las\n",
      "48_continuous.las\n",
      "48_discrete.las\n",
      "K-101_continuous.las\n",
      "K-101_discrete.las\n",
      "K-10_continuous.las\n",
      "K-10_discrete.las\n",
      "K-24042_continuous.las\n",
      "K-24042_discrete.las\n",
      "K-37_continuous.las\n",
      "K-37_discrete.las\n",
      "K-44_continuous.las\n",
      "K-44_discrete.las\n",
      "K-66_continuous.las\n",
      "K-66_discrete.las\n"
     ]
    }
   ],
   "source": [
    "for filename in os.listdir(DATA_DIR):\n",
    "    # Print each filename\n",
    "    well_idx.append(filename.split(\"_\")[0])\n",
    "    print(filename)"
   ]
  },
  {
   "cell_type": "code",
   "execution_count": 11,
   "id": "96a03199b1e9f0ab",
   "metadata": {
    "ExecuteTime": {
     "end_time": "2024-04-08T13:20:40.787163Z",
     "start_time": "2024-04-08T13:20:40.769206Z"
    }
   },
   "outputs": [],
   "source": [
    "well_idx = set(well_idx)"
   ]
  },
  {
   "cell_type": "code",
   "execution_count": 12,
   "id": "1bc78a99fa38867",
   "metadata": {
    "ExecuteTime": {
     "end_time": "2024-04-08T13:20:41.144894Z",
     "start_time": "2024-04-08T13:20:41.131929Z"
    }
   },
   "outputs": [
    {
     "data": {
      "text/plain": [
       "41"
      ]
     },
     "execution_count": 12,
     "metadata": {},
     "output_type": "execute_result"
    }
   ],
   "source": [
    "len(well_idx)"
   ]
  },
  {
   "cell_type": "code",
   "execution_count": 13,
   "id": "4fce10e0793aa626",
   "metadata": {
    "ExecuteTime": {
     "end_time": "2024-04-08T13:20:41.405731Z",
     "start_time": "2024-04-08T13:20:41.390262Z"
    }
   },
   "outputs": [
    {
     "data": {
      "text/plain": [
       "str"
      ]
     },
     "execution_count": 13,
     "metadata": {},
     "output_type": "execute_result"
    }
   ],
   "source": [
    "type(list(well_idx)[0])"
   ]
  },
  {
   "cell_type": "code",
   "execution_count": 14,
   "id": "232b5c99198d3f44",
   "metadata": {
    "ExecuteTime": {
     "end_time": "2024-04-08T13:20:41.700070Z",
     "start_time": "2024-04-08T13:20:41.515545Z"
    }
   },
   "outputs": [],
   "source": [
    "excel = pd.read_excel(EXCEL_DIR + \"\\\\Отбивки пласта АС11-2.xlsx\")"
   ]
  },
  {
   "cell_type": "code",
   "execution_count": 15,
   "id": "bac723c5fe1a99fa",
   "metadata": {
    "ExecuteTime": {
     "end_time": "2024-04-08T13:20:42.305623Z",
     "start_time": "2024-04-08T13:20:42.294648Z"
    }
   },
   "outputs": [],
   "source": [
    "upper_bounds = excel.iloc[::2].copy()\n",
    "upper_bounds.rename(columns={'Z': 'upper'}, inplace=True)\n",
    "upper_bounds.drop(['Surface', 'MD'], inplace=True, axis=1)"
   ]
  },
  {
   "cell_type": "code",
   "execution_count": 16,
   "id": "78f68c6c6163b074",
   "metadata": {
    "ExecuteTime": {
     "end_time": "2024-04-08T13:20:42.429807Z",
     "start_time": "2024-04-08T13:20:42.413849Z"
    }
   },
   "outputs": [],
   "source": [
    "lower_bounds = excel.iloc[1::2].copy()\n",
    "lower_bounds.rename(columns={'Z': 'lower'}, inplace=True)\n",
    "lower_bounds.drop(['Surface', 'MD'], inplace=True, axis=1)"
   ]
  },
  {
   "cell_type": "code",
   "execution_count": 17,
   "id": "66028c8284cca06",
   "metadata": {
    "ExecuteTime": {
     "end_time": "2024-04-08T13:20:44.113682Z",
     "start_time": "2024-04-08T13:20:44.102713Z"
    }
   },
   "outputs": [],
   "source": [
    "target_layers = pd.merge(upper_bounds, lower_bounds, on='Well identifier', how='outer')\n",
    "target_layers['Well identifier'] = target_layers['Well identifier'].astype(str)\n",
    "target_layers = target_layers[target_layers['Well identifier'].isin(well_idx)]\n"
   ]
  },
  {
   "cell_type": "code",
   "execution_count": 18,
   "id": "10bfb269755067fb",
   "metadata": {
    "ExecuteTime": {
     "end_time": "2024-04-08T13:20:44.981894Z",
     "start_time": "2024-04-08T13:20:44.959952Z"
    }
   },
   "outputs": [
    {
     "data": {
      "text/html": [
       "<div>\n",
       "<style scoped>\n",
       "    .dataframe tbody tr th:only-of-type {\n",
       "        vertical-align: middle;\n",
       "    }\n",
       "\n",
       "    .dataframe tbody tr th {\n",
       "        vertical-align: top;\n",
       "    }\n",
       "\n",
       "    .dataframe thead th {\n",
       "        text-align: right;\n",
       "    }\n",
       "</style>\n",
       "<table border=\"1\" class=\"dataframe\">\n",
       "  <thead>\n",
       "    <tr style=\"text-align: right;\">\n",
       "      <th></th>\n",
       "      <th>Well identifier</th>\n",
       "      <th>upper</th>\n",
       "      <th>lower</th>\n",
       "    </tr>\n",
       "  </thead>\n",
       "  <tbody>\n",
       "    <tr>\n",
       "      <th>1</th>\n",
       "      <td>12</td>\n",
       "      <td>-2161.95</td>\n",
       "      <td>-2183.98</td>\n",
       "    </tr>\n",
       "    <tr>\n",
       "      <th>2</th>\n",
       "      <td>13</td>\n",
       "      <td>-2158.72</td>\n",
       "      <td>-2175.36</td>\n",
       "    </tr>\n",
       "    <tr>\n",
       "      <th>3</th>\n",
       "      <td>14</td>\n",
       "      <td>-2170.38</td>\n",
       "      <td>-2190.59</td>\n",
       "    </tr>\n",
       "    <tr>\n",
       "      <th>4</th>\n",
       "      <td>15</td>\n",
       "      <td>-2170.84</td>\n",
       "      <td>-2188.69</td>\n",
       "    </tr>\n",
       "    <tr>\n",
       "      <th>5</th>\n",
       "      <td>16</td>\n",
       "      <td>-2157.70</td>\n",
       "      <td>-2178.94</td>\n",
       "    </tr>\n",
       "    <tr>\n",
       "      <th>6</th>\n",
       "      <td>17</td>\n",
       "      <td>-2150.80</td>\n",
       "      <td>-2171.09</td>\n",
       "    </tr>\n",
       "    <tr>\n",
       "      <th>7</th>\n",
       "      <td>18</td>\n",
       "      <td>-2146.87</td>\n",
       "      <td>-2167.39</td>\n",
       "    </tr>\n",
       "    <tr>\n",
       "      <th>8</th>\n",
       "      <td>19</td>\n",
       "      <td>-2129.24</td>\n",
       "      <td>-2150.87</td>\n",
       "    </tr>\n",
       "    <tr>\n",
       "      <th>9</th>\n",
       "      <td>20</td>\n",
       "      <td>-2141.56</td>\n",
       "      <td>-2162.04</td>\n",
       "    </tr>\n",
       "    <tr>\n",
       "      <th>10</th>\n",
       "      <td>22</td>\n",
       "      <td>-2129.92</td>\n",
       "      <td>-2146.85</td>\n",
       "    </tr>\n",
       "    <tr>\n",
       "      <th>11</th>\n",
       "      <td>23</td>\n",
       "      <td>-2154.70</td>\n",
       "      <td>-2178.10</td>\n",
       "    </tr>\n",
       "    <tr>\n",
       "      <th>12</th>\n",
       "      <td>24</td>\n",
       "      <td>-2131.91</td>\n",
       "      <td>-2154.01</td>\n",
       "    </tr>\n",
       "    <tr>\n",
       "      <th>13</th>\n",
       "      <td>25</td>\n",
       "      <td>-2130.33</td>\n",
       "      <td>-2145.12</td>\n",
       "    </tr>\n",
       "    <tr>\n",
       "      <th>14</th>\n",
       "      <td>26</td>\n",
       "      <td>-2119.19</td>\n",
       "      <td>-2132.92</td>\n",
       "    </tr>\n",
       "    <tr>\n",
       "      <th>15</th>\n",
       "      <td>27</td>\n",
       "      <td>-2137.58</td>\n",
       "      <td>-2158.78</td>\n",
       "    </tr>\n",
       "    <tr>\n",
       "      <th>16</th>\n",
       "      <td>28</td>\n",
       "      <td>-2107.03</td>\n",
       "      <td>-2130.64</td>\n",
       "    </tr>\n",
       "    <tr>\n",
       "      <th>17</th>\n",
       "      <td>29</td>\n",
       "      <td>-2118.70</td>\n",
       "      <td>-2137.45</td>\n",
       "    </tr>\n",
       "    <tr>\n",
       "      <th>18</th>\n",
       "      <td>30</td>\n",
       "      <td>-2133.92</td>\n",
       "      <td>-2162.74</td>\n",
       "    </tr>\n",
       "    <tr>\n",
       "      <th>19</th>\n",
       "      <td>31</td>\n",
       "      <td>-2179.97</td>\n",
       "      <td>-2198.63</td>\n",
       "    </tr>\n",
       "    <tr>\n",
       "      <th>21</th>\n",
       "      <td>33</td>\n",
       "      <td>-2200.22</td>\n",
       "      <td>-2220.50</td>\n",
       "    </tr>\n",
       "    <tr>\n",
       "      <th>22</th>\n",
       "      <td>34</td>\n",
       "      <td>-2191.32</td>\n",
       "      <td>-2212.21</td>\n",
       "    </tr>\n",
       "    <tr>\n",
       "      <th>23</th>\n",
       "      <td>35</td>\n",
       "      <td>-2183.09</td>\n",
       "      <td>-2203.41</td>\n",
       "    </tr>\n",
       "    <tr>\n",
       "      <th>24</th>\n",
       "      <td>36</td>\n",
       "      <td>-2133.82</td>\n",
       "      <td>-2147.70</td>\n",
       "    </tr>\n",
       "    <tr>\n",
       "      <th>25</th>\n",
       "      <td>37</td>\n",
       "      <td>-2111.92</td>\n",
       "      <td>-2123.15</td>\n",
       "    </tr>\n",
       "    <tr>\n",
       "      <th>26</th>\n",
       "      <td>38</td>\n",
       "      <td>-2109.31</td>\n",
       "      <td>-2134.34</td>\n",
       "    </tr>\n",
       "    <tr>\n",
       "      <th>27</th>\n",
       "      <td>39</td>\n",
       "      <td>-2120.59</td>\n",
       "      <td>-2146.35</td>\n",
       "    </tr>\n",
       "    <tr>\n",
       "      <th>28</th>\n",
       "      <td>40</td>\n",
       "      <td>-2129.30</td>\n",
       "      <td>-2150.89</td>\n",
       "    </tr>\n",
       "    <tr>\n",
       "      <th>29</th>\n",
       "      <td>41</td>\n",
       "      <td>-2127.34</td>\n",
       "      <td>-2143.80</td>\n",
       "    </tr>\n",
       "    <tr>\n",
       "      <th>30</th>\n",
       "      <td>42</td>\n",
       "      <td>-2129.82</td>\n",
       "      <td>-2153.94</td>\n",
       "    </tr>\n",
       "    <tr>\n",
       "      <th>31</th>\n",
       "      <td>43</td>\n",
       "      <td>-2103.37</td>\n",
       "      <td>-2124.84</td>\n",
       "    </tr>\n",
       "    <tr>\n",
       "      <th>32</th>\n",
       "      <td>44</td>\n",
       "      <td>-2128.99</td>\n",
       "      <td>-2145.62</td>\n",
       "    </tr>\n",
       "    <tr>\n",
       "      <th>33</th>\n",
       "      <td>45</td>\n",
       "      <td>-2100.55</td>\n",
       "      <td>-2113.85</td>\n",
       "    </tr>\n",
       "    <tr>\n",
       "      <th>34</th>\n",
       "      <td>46</td>\n",
       "      <td>-2121.34</td>\n",
       "      <td>-2137.03</td>\n",
       "    </tr>\n",
       "    <tr>\n",
       "      <th>35</th>\n",
       "      <td>47</td>\n",
       "      <td>-2134.41</td>\n",
       "      <td>-2153.98</td>\n",
       "    </tr>\n",
       "    <tr>\n",
       "      <th>36</th>\n",
       "      <td>48</td>\n",
       "      <td>-2111.91</td>\n",
       "      <td>-2131.01</td>\n",
       "    </tr>\n",
       "    <tr>\n",
       "      <th>37</th>\n",
       "      <td>K-10</td>\n",
       "      <td>-2152.20</td>\n",
       "      <td>-2175.50</td>\n",
       "    </tr>\n",
       "    <tr>\n",
       "      <th>38</th>\n",
       "      <td>K-101</td>\n",
       "      <td>-2123.51</td>\n",
       "      <td>-2139.61</td>\n",
       "    </tr>\n",
       "    <tr>\n",
       "      <th>41</th>\n",
       "      <td>K-24042</td>\n",
       "      <td>-2123.09</td>\n",
       "      <td>-2143.78</td>\n",
       "    </tr>\n",
       "    <tr>\n",
       "      <th>43</th>\n",
       "      <td>K-37</td>\n",
       "      <td>-2108.62</td>\n",
       "      <td>-2131.33</td>\n",
       "    </tr>\n",
       "    <tr>\n",
       "      <th>44</th>\n",
       "      <td>K-44</td>\n",
       "      <td>-2133.07</td>\n",
       "      <td>-2153.23</td>\n",
       "    </tr>\n",
       "    <tr>\n",
       "      <th>47</th>\n",
       "      <td>K-66</td>\n",
       "      <td>-2138.28</td>\n",
       "      <td>-2158.44</td>\n",
       "    </tr>\n",
       "  </tbody>\n",
       "</table>\n",
       "</div>"
      ],
      "text/plain": [
       "   Well identifier    upper    lower\n",
       "1               12 -2161.95 -2183.98\n",
       "2               13 -2158.72 -2175.36\n",
       "3               14 -2170.38 -2190.59\n",
       "4               15 -2170.84 -2188.69\n",
       "5               16 -2157.70 -2178.94\n",
       "6               17 -2150.80 -2171.09\n",
       "7               18 -2146.87 -2167.39\n",
       "8               19 -2129.24 -2150.87\n",
       "9               20 -2141.56 -2162.04\n",
       "10              22 -2129.92 -2146.85\n",
       "11              23 -2154.70 -2178.10\n",
       "12              24 -2131.91 -2154.01\n",
       "13              25 -2130.33 -2145.12\n",
       "14              26 -2119.19 -2132.92\n",
       "15              27 -2137.58 -2158.78\n",
       "16              28 -2107.03 -2130.64\n",
       "17              29 -2118.70 -2137.45\n",
       "18              30 -2133.92 -2162.74\n",
       "19              31 -2179.97 -2198.63\n",
       "21              33 -2200.22 -2220.50\n",
       "22              34 -2191.32 -2212.21\n",
       "23              35 -2183.09 -2203.41\n",
       "24              36 -2133.82 -2147.70\n",
       "25              37 -2111.92 -2123.15\n",
       "26              38 -2109.31 -2134.34\n",
       "27              39 -2120.59 -2146.35\n",
       "28              40 -2129.30 -2150.89\n",
       "29              41 -2127.34 -2143.80\n",
       "30              42 -2129.82 -2153.94\n",
       "31              43 -2103.37 -2124.84\n",
       "32              44 -2128.99 -2145.62\n",
       "33              45 -2100.55 -2113.85\n",
       "34              46 -2121.34 -2137.03\n",
       "35              47 -2134.41 -2153.98\n",
       "36              48 -2111.91 -2131.01\n",
       "37            K-10 -2152.20 -2175.50\n",
       "38           K-101 -2123.51 -2139.61\n",
       "41         K-24042 -2123.09 -2143.78\n",
       "43            K-37 -2108.62 -2131.33\n",
       "44            K-44 -2133.07 -2153.23\n",
       "47            K-66 -2138.28 -2158.44"
      ]
     },
     "execution_count": 18,
     "metadata": {},
     "output_type": "execute_result"
    }
   ],
   "source": [
    "target_layers"
   ]
  },
  {
   "cell_type": "code",
   "execution_count": 19,
   "id": "6ddec3dc328ae592",
   "metadata": {
    "ExecuteTime": {
     "end_time": "2024-04-08T13:20:46.346774Z",
     "start_time": "2024-04-08T13:20:46.328822Z"
    }
   },
   "outputs": [
    {
     "data": {
      "text/plain": [
       "Well identifier         44\n",
       "upper             -2128.99\n",
       "lower             -2145.62\n",
       "Name: 32, dtype: object"
      ]
     },
     "execution_count": 19,
     "metadata": {},
     "output_type": "execute_result"
    }
   ],
   "source": [
    "target_layers.iloc[30]"
   ]
  },
  {
   "cell_type": "code",
   "execution_count": 20,
   "id": "9e4c60fc21a590b6",
   "metadata": {
    "ExecuteTime": {
     "end_time": "2024-04-08T13:29:33.053480Z",
     "start_time": "2024-04-08T13:29:32.541513Z"
    }
   },
   "outputs": [
    {
     "data": {
      "image/png": "[encoded data removed]",
      "text/plain": [
       "<Figure size 1440x288 with 2 Axes>"
      ]
     },
     "metadata": {
      "needs_background": "light"
     },
     "output_type": "display_data"
    }
   ],
   "source": [
    "z, ggkp, neu = view_well_file.view_well(20, target_layers)"
   ]
  },
  {
   "cell_type": "code",
   "execution_count": 21,
   "id": "5f3569242e095de9",
   "metadata": {
    "ExecuteTime": {
     "end_time": "2024-04-08T13:29:58.798625Z",
     "start_time": "2024-04-08T13:29:58.786628Z"
    }
   },
   "outputs": [
    {
     "data": {
      "text/plain": [
       "(137,)"
      ]
     },
     "execution_count": 21,
     "metadata": {},
     "output_type": "execute_result"
    }
   ],
   "source": [
    "z.shape"
   ]
  },
  {
   "cell_type": "code",
   "execution_count": 22,
   "id": "bc0c2e9b0125508c",
   "metadata": {
    "ExecuteTime": {
     "end_time": "2024-04-08T13:32:59.691098Z",
     "start_time": "2024-04-08T13:32:59.679101Z"
    }
   },
   "outputs": [],
   "source": [
    "z_interp, ggkp_interp = interpolation.interpolate_lin(z, ggkp, 200)"
   ]
  },
  {
   "cell_type": "code",
   "execution_count": 23,
   "id": "98b023b36648af95",
   "metadata": {
    "ExecuteTime": {
     "end_time": "2024-04-08T13:33:22.230335Z",
     "start_time": "2024-04-08T13:33:22.123085Z"
    }
   },
   "outputs": [
    {
     "data": {
      "image/png": "[encoded data removed]",
      "text/plain": [
       "<Figure size 720x288 with 1 Axes>"
      ]
     },
     "metadata": {
      "needs_background": "light"
     },
     "output_type": "display_data"
    }
   ],
   "source": [
    "plt.figure(figsize=(10, 4))\n",
    "plt.plot(z_interp, ggkp_interp)\n",
    "plt.show()"
   ]
  },
  {
   "cell_type": "code",
   "execution_count": 24,
   "id": "f0f76c791e31020a",
   "metadata": {
    "ExecuteTime": {
     "end_time": "2024-04-08T13:30:52.549024Z",
     "start_time": "2024-04-08T13:30:52.428829Z"
    }
   },
   "outputs": [
    {
     "name": "stdout",
     "output_type": "stream",
     "text": [
      "189.1076115485545\n"
     ]
    },
    {
     "data": {
      "image/png": "[encoded data removed]",
      "text/plain": [
       "<Figure size 432x288 with 1 Axes>"
      ]
     },
     "metadata": {
      "needs_background": "light"
     },
     "output_type": "display_data"
    }
   ],
   "source": [
    "plt.hist((target_layers.upper - target_layers.lower) / 0.1524)\n",
    "print(max((target_layers.upper - target_layers.lower) / 0.1524))\n",
    "plt.show()"
   ]
  },
  {
   "cell_type": "code",
   "execution_count": 39,
   "id": "88fcab26",
   "metadata": {},
   "outputs": [],
   "source": [
    "##Сначала немного обработаем кривые: разделим кривую на 100 точек"
   ]
  },
  {
   "cell_type": "code",
   "execution_count": 25,
   "id": "8af9d91149f56de7",
   "metadata": {
    "ExecuteTime": {
     "end_time": "2024-04-08T14:30:01.200050Z",
     "start_time": "2024-04-08T14:29:53.254976Z"
    }
   },
   "outputs": [],
   "source": [
    "data_ = []\n",
    "z_ = []\n",
    "for well_index in range(len(well_idx)):\n",
    "    las = lasio.read(os.path.join(DATA_DIR, f\"{target_layers.iloc[well_index]['Well identifier']}_continuous.las\"))\n",
    "    target_layer_idx = np.where((las['Z'] < target_layers.iloc[well_index].upper) & (las['Z'] > target_layers.iloc[well_index].lower))\n",
    "    data_interp = interpolation.interpolate_lin(las[\"Z\"][target_layer_idx], las[\"GGKP\"][target_layer_idx], 100)\n",
    "    data_.append(data_interp[1])\n",
    "    z_.append(data_interp[0])\n",
    "\n",
    "data = np.empty(len(data_), dtype=object)\n",
    "z = np.empty(len(z_), dtype=object)\n",
    "for i, sublist in enumerate(data_):\n",
    "    data[i] = np.array(sublist)\n",
    "for i, sublist in enumerate(z_):\n",
    "    z[i] = np.array(sublist)    \n",
    "data = np.vstack(data)\n",
    "z = np.vstack(z)"
   ]
  },
  {
   "cell_type": "code",
   "execution_count": 26,
   "id": "32df1d22fc5b72eb",
   "metadata": {
    "ExecuteTime": {
     "end_time": "2024-04-08T14:30:03.316710Z",
     "start_time": "2024-04-08T14:30:03.306736Z"
    }
   },
   "outputs": [
    {
     "data": {
      "image/png": "[encoded data removed]",
      "text/plain": [
       "<Figure size 720x288 with 1 Axes>"
      ]
     },
     "metadata": {
      "needs_background": "light"
     },
     "output_type": "display_data"
    }
   ],
   "source": [
    "plt.figure(figsize=(10, 4))\n",
    "plt.plot(z[0], data[0])\n",
    "plt.show()"
   ]
  },
  {
   "cell_type": "code",
   "execution_count": null,
   "id": "ce14d226",
   "metadata": {},
   "outputs": [],
   "source": [
    "##Посчитаем  градиенты этих массивов"
   ]
  },
  {
   "cell_type": "code",
   "execution_count": 27,
   "id": "61c1dc6f",
   "metadata": {},
   "outputs": [],
   "source": [
    "data_grad = np.gradient(data, axis = 1)"
   ]
  },
  {
   "cell_type": "code",
   "execution_count": 28,
   "id": "b94fac7e",
   "metadata": {},
   "outputs": [
    {
     "data": {
      "image/png": "[encoded data removed]",
      "text/plain": [
       "<Figure size 720x288 with 2 Axes>"
      ]
     },
     "metadata": {
      "needs_background": "light"
     },
     "output_type": "display_data"
    }
   ],
   "source": [
    "plt.figure(figsize=(10, 4))\n",
    "plt.subplot(2, 1, 1)\n",
    "plt.plot(z[0], data[0])\n",
    "plt.subplot(2, 1, 2)\n",
    "plt.plot(z[0], data_grad[0])\n",
    "plt.show()"
   ]
  },
  {
   "cell_type": "code",
   "execution_count": 29,
   "id": "cfbbaf42",
   "metadata": {},
   "outputs": [
    {
     "name": "stdout",
     "output_type": "stream",
     "text": [
      "[0, 0, 0, 0, 0, 0, 0, 0, 0, 0, 0, 0, 0, 0, 0, 0, 0, 0, 1, 0, 0, 0, 0, 0, 0, 0, 0, 0, 0, 1, 0, 0, 0, 0, 1, 0, 1, 0, 0, 0, 0, 0, 0, 1, 1, 0, 0, 0, 0, 0, 0, 0, 0, 1, 0, 0, 0, 0, 0, 0, 0, 0, 0, 0, 0, 0, 0, 0, 0, 0, 0, 0, 0, 0, 0, 0, 0, 0, 0, 0, 0, 0, 0, 0, 0, 0, 0, 0, 0, 0, 0, 0, 0, 1, 1, 0, 0, 0, 0, 0]\n"
     ]
    }
   ],
   "source": [
    "split_points = []\n",
    "for i in range(len(data[0])):\n",
    "    if np.abs(data_grad[0][i]) > 0.005:\n",
    "        split_points.append(0)\n",
    "    else:\n",
    "        split_points.append(1)\n",
    "print(split_points)\n",
    "    "
   ]
  },
  {
   "cell_type": "code",
   "execution_count": null,
   "id": "f73da9a8",
   "metadata": {},
   "outputs": [],
   "source": [
    "## Разделим массив: линии раздела проходят по тем точкам, где градиент зануляется (очень мал, меньше 0.005)"
   ]
  },
  {
   "cell_type": "code",
   "execution_count": 30,
   "id": "d2777708",
   "metadata": {},
   "outputs": [
    {
     "name": "stdout",
     "output_type": "stream",
     "text": [
      "[array([2.57      , 2.5406919 , 2.47      , 2.55415141, 2.5086162 ,\n",
      "        2.40691902, 2.34584859, 2.45304841, 2.47830282, 2.40047625,\n",
      "        2.46351228, 2.57044368, 2.3973627 , 2.32153648, 2.47553719,\n",
      "        2.45486173, 2.4554556 , 2.41731879])\n",
      " array([2.41359241, 2.44397414, 2.45112676, 2.34792125, 2.40929234,\n",
      "        2.50398274, 2.49324631, 2.24371092, 2.27737632, 2.37558142])\n",
      " array([2.36949116, 2.30043113, 2.35840132, 2.35085023])\n",
      " array([2.34146785])\n",
      " array([2.34207894, 2.33761552, 2.37730997, 2.32700443, 2.35      ,\n",
      "        2.31360666])\n",
      " array([], dtype=float64)\n",
      " array([2.3090466 , 2.44171153, 2.51026879, 2.54368018, 2.5844729 ,\n",
      "        2.62159176, 2.66178288, 2.60664848])\n",
      " array([2.60637023, 2.59      , 2.56785924, 2.60369405, 2.59223357,\n",
      "        2.44629775, 2.47289744, 2.52      , 2.45962166, 2.39016921,\n",
      "        2.42958173, 2.37949713, 2.36159322, 2.39672897, 2.38      ,\n",
      "        2.37167782, 2.41408534, 2.35679588, 2.29232291, 2.38714723,\n",
      "        2.3868535 , 2.39941614, 2.34485019, 2.33399445, 2.35578915,\n",
      "        2.4072087 , 2.38936066, 2.36463379, 2.3383841 , 2.35157061,\n",
      "        2.42387113, 2.4399975 , 2.44837911, 2.40362699, 2.38452299,\n",
      "        2.44213192, 2.40063684, 2.38617666, 2.37355396])\n",
      " array([], dtype=float64)\n",
      " array([2.33095354, 2.35214546, 2.44238385, 2.50880808, 2.47      ])]\n",
      "(10,)\n"
     ]
    }
   ],
   "source": [
    "data_redone = []\n",
    "for i in range(len(data[0])):\n",
    "    if np.abs(data_grad[0][i]) > 0.005:\n",
    "        data_redone.append(data[0][i])\n",
    "    else:\n",
    "        data_redone.append(0)\n",
    "\n",
    "from itertools import takewhile  \n",
    "def split0(a): \n",
    "    it = iter(a) \n",
    "    return [[x for x in takewhile(bool, it)] for _ in range(a.count(0) + 1)]\n",
    "\n",
    "data_redone = split0(data_redone)\n",
    "\n",
    "data_new= np.empty(len(data_redone), dtype=object)\n",
    "for i, sublist in enumerate(data_redone):\n",
    "    data_new[i] = np.array(sublist)  \n",
    "print(data_new)\n",
    "print(data_new.shape)"
   ]
  },
  {
   "cell_type": "code",
   "execution_count": null,
   "id": "488599f1",
   "metadata": {},
   "outputs": [],
   "source": [
    "##Теперь всё то же самое, только для всех кривых"
   ]
  },
  {
   "cell_type": "code",
   "execution_count": 31,
   "id": "1c06eef2",
   "metadata": {},
   "outputs": [
    {
     "name": "stdout",
     "output_type": "stream",
     "text": [
      "(98, 10)\n"
     ]
    },
    {
     "data": {
      "text/plain": [
       "'\\ndata2 = np.empty(len(data_new_new), dtype=object)\\nfor i, sublist in enumerate(data_new_new):\\n    data2[i] = np.array(sublist)\\n\\ndata2 = np.vstack(data2)\\n'"
      ]
     },
     "execution_count": 31,
     "metadata": {},
     "output_type": "execute_result"
    }
   ],
   "source": [
    "data_redone_true = []\n",
    "z_redone_true = []\n",
    "for i in range (len(data)):\n",
    "    data_redone = []\n",
    "    z_redone = []\n",
    "    for j in range(len(data[i])):\n",
    "        if np.abs(data_grad[i][j]) > 0.005:\n",
    "            data_redone.append(data[i][j])\n",
    "            z_redone.append(z[i][j])\n",
    "        else:\n",
    "            data_redone.append(0)\n",
    "            z_redone.append(0)\n",
    "    data_redone_local = split0(data_redone)\n",
    "    z_redone_local = split0(z_redone)\n",
    "    for k in range(len(data_redone_local)):\n",
    "        data_redone_true.append(data_redone_local[k])\n",
    "        z_redone_true.append(z_redone_local[k])\n",
    "\n",
    "data_new= np.empty(len(data_redone_true), dtype=object)\n",
    "z_new= np.empty(len(z_redone_true), dtype=object)\n",
    "for i, sublist in enumerate(data_redone_true):\n",
    "    data_new[i] = np.array(sublist)  \n",
    "for i, sublist in enumerate(z_redone_true):\n",
    "    z_new[i] = np.array(sublist)  \n",
    "\n",
    "data_new_new= []\n",
    "z_new_new= []\n",
    "for data_iter in data_new:\n",
    "    if data_iter.shape[0] > 9:\n",
    "        data_new_new.append(data_iter)\n",
    "\n",
    "for z_iter in z_new:\n",
    "    if z_iter.shape[0] > 9:\n",
    "        z_new_new.append(z_iter)\n",
    "pair_of_elements = []\n",
    "\n",
    "data_new_newinterp = np.empty(len(data_new_new), dtype=object)\n",
    "for k in range (len(data_new_new)): \n",
    "    data_new_newinterp[k] = interpolation.interpolate_lin(z_new_new[k], data_new_new[k], 10)[0]\n",
    "data_new_newinterp = np.vstack(data_new_newinterp)\n",
    "\n",
    "print(data_new_newinterp.shape)"
   ]
  },
  {
   "cell_type": "code",
   "execution_count": null,
   "id": "6b8342a3",
   "metadata": {},
   "outputs": [],
   "source": [
    "##Обучаем на KMeans и ищем наиболее оптимальное число кластеров"
   ]
  },
  {
   "cell_type": "code",
   "execution_count": 38,
   "id": "86911c91aa24edeb",
   "metadata": {
    "ExecuteTime": {
     "end_time": "2024-04-08T14:40:10.909783Z",
     "start_time": "2024-04-08T14:40:10.891832Z"
    }
   },
   "outputs": [
    {
     "name": "stdout",
     "output_type": "stream",
     "text": [
      "Max silhouette_score 0.5910615215025584\n",
      "Max silhouette_score on 5\n",
      "Cluster labels: [3 3 3 3 1 3 3 3 0 3 0 4 4 4 0 0 4 4 4 3 3 0 0 4 4 4 4 2 0 0 4 4 2 2 4 2 2\n",
      " 0 0 4 4 1 1 3 1 1 1 1 1 1 1 1 0 4 4 4 2 2 2 4 4 2 2 2 4 4 4 4 0 4 2 2 0 4\n",
      " 2 4 4 0 0 4 2 2 3 0 0 0 4 4 4 4 4 2 2 2 0 4 0 0]\n"
     ]
    }
   ],
   "source": [
    "from sklearn.cluster import KMeans\n",
    "from sklearn.preprocessing import StandardScaler\n",
    "from scipy.spatial.distance import mahalanobis\n",
    "from sklearn.metrics import silhouette_score\n",
    "scaler = StandardScaler()\n",
    "scaled_data = scaler.fit_transform(data_new_newinterp)\n",
    "\n",
    "silhouette = []\n",
    "for k in range (3, 20, 1):\n",
    "    \n",
    "    kmeans = KMeans(n_clusters=k, random_state=42)\n",
    "    silhouette_local = silhouette_score(data_new_newinterp, kmeans.fit_predict(data_new_newinterp))\n",
    "    silhouette.append(silhouette_local)\n",
    "# Print the cluster labels\n",
    "print(\"Max silhouette_score\", max(silhouette))\n",
    "print(\"Max silhouette_score on\", silhouette.index(max(silhouette)) + 3)\n",
    "kmeans = KMeans(n_clusters= silhouette.index(max(silhouette)) + 3, random_state=42).fit(data_new_newinterp)\n",
    "labels = kmeans.labels_\n",
    "print(\"Cluster labels:\", labels)"
   ]
  }
 ],
 "metadata": {
  "kernelspec": {
   "display_name": "Python 3 (ipykernel)",
   "language": "python",
   "name": "python3"
  },
  "language_info": {
   "codemirror_mode": {
    "name": "ipython",
    "version": 3
   },
   "file_extension": ".py",
   "mimetype": "text/x-python",
   "name": "python",
   "nbconvert_exporter": "python",
   "pygments_lexer": "ipython3",
   "version": "3.9.12"
  }
 },
 "nbformat": 4,
 "nbformat_minor": 5
}
