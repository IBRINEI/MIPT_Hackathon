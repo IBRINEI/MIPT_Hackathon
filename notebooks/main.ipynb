{
 "cells": [
  {
   "cell_type": "code",
   "execution_count": 21,
   "id": "initial_id",
   "metadata": {
    "collapsed": true,
    "ExecuteTime": {
     "end_time": "2024-04-05T14:06:09.627571Z",
     "start_time": "2024-04-05T14:06:09.343798Z"
    }
   },
   "outputs": [],
   "source": [
    "import lasio\n",
    "import os\n",
    "import matplotlib.pyplot as plt\n",
    "import numpy as np\n",
    "import pandas as pd\n",
    "from prov import identifier"
   ]
  },
  {
   "cell_type": "code",
   "outputs": [],
   "source": [
    "DATA_DIR = \"..\\\\data\\\\las\"\n",
    "EXCEL_DIR = \"..\\\\data\""
   ],
   "metadata": {
    "collapsed": false,
    "ExecuteTime": {
     "end_time": "2024-04-05T14:06:13.445212Z",
     "start_time": "2024-04-05T14:06:13.428258Z"
    }
   },
   "id": "26a09c13deae0bec",
   "execution_count": 23
  },
  {
   "cell_type": "code",
   "outputs": [],
   "source": [
    "well_idx = []"
   ],
   "metadata": {
    "collapsed": false,
    "ExecuteTime": {
     "end_time": "2024-04-05T14:04:08.352313Z",
     "start_time": "2024-04-05T14:04:08.345333Z"
    }
   },
   "id": "72565b2042a67971",
   "execution_count": 15
  },
  {
   "cell_type": "code",
   "outputs": [],
   "source": [
    "for filename in os.listdir(DATA_DIR):\n",
    "    # Print each filename\n",
    "    well_idx.append(filename.split(\"_\")[0])\n",
    "    # print(filename)"
   ],
   "metadata": {
    "collapsed": false,
    "ExecuteTime": {
     "end_time": "2024-04-05T14:04:08.475570Z",
     "start_time": "2024-04-05T14:04:08.471581Z"
    }
   },
   "id": "4579e613d09ae996",
   "execution_count": 16
  },
  {
   "cell_type": "code",
   "outputs": [],
   "source": [
    "well_idx = set(well_idx)"
   ],
   "metadata": {
    "collapsed": false,
    "ExecuteTime": {
     "end_time": "2024-04-05T14:04:10.775207Z",
     "start_time": "2024-04-05T14:04:10.761246Z"
    }
   },
   "id": "96a03199b1e9f0ab",
   "execution_count": 18
  },
  {
   "cell_type": "code",
   "outputs": [
    {
     "data": {
      "text/plain": "41"
     },
     "execution_count": 19,
     "metadata": {},
     "output_type": "execute_result"
    }
   ],
   "source": [
    "len(well_idx)"
   ],
   "metadata": {
    "collapsed": false,
    "ExecuteTime": {
     "end_time": "2024-04-05T14:04:11.208127Z",
     "start_time": "2024-04-05T14:04:11.196158Z"
    }
   },
   "id": "1bc78a99fa38867",
   "execution_count": 19
  },
  {
   "cell_type": "code",
   "outputs": [
    {
     "data": {
      "text/plain": "str"
     },
     "execution_count": 65,
     "metadata": {},
     "output_type": "execute_result"
    }
   ],
   "source": [
    "type(list(well_idx)[0])"
   ],
   "metadata": {
    "collapsed": false,
    "ExecuteTime": {
     "end_time": "2024-04-05T14:35:43.054775Z",
     "start_time": "2024-04-05T14:35:43.040307Z"
    }
   },
   "id": "4fce10e0793aa626",
   "execution_count": 65
  },
  {
   "cell_type": "code",
   "outputs": [],
   "source": [
    "excel = pd.read_excel(EXCEL_DIR + \"\\\\Отбивки пласта АС11-2.xlsx\")"
   ],
   "metadata": {
    "collapsed": false,
    "ExecuteTime": {
     "end_time": "2024-04-05T14:06:49.791891Z",
     "start_time": "2024-04-05T14:06:49.589393Z"
    }
   },
   "id": "232b5c99198d3f44",
   "execution_count": 26
  },
  {
   "cell_type": "code",
   "outputs": [],
   "source": [
    "upper_bounds = excel.iloc[::2].copy()\n",
    "upper_bounds.rename(columns={'Z': 'upper'}, inplace=True)\n",
    "upper_bounds.drop(['Surface', 'MD'], inplace=True, axis=1)"
   ],
   "metadata": {
    "collapsed": false,
    "ExecuteTime": {
     "end_time": "2024-04-05T14:31:30.239018Z",
     "start_time": "2024-04-05T14:31:30.226304Z"
    }
   },
   "id": "bac723c5fe1a99fa",
   "execution_count": 45
  },
  {
   "cell_type": "code",
   "outputs": [],
   "source": [
    "lower_bounds = excel.iloc[1::2].copy()\n",
    "lower_bounds.rename(columns={'Z': 'lower'}, inplace=True)\n",
    "lower_bounds.drop(['Surface', 'MD'], inplace=True, axis=1)"
   ],
   "metadata": {
    "collapsed": false,
    "ExecuteTime": {
     "end_time": "2024-04-05T14:31:47.489781Z",
     "start_time": "2024-04-05T14:31:47.483132Z"
    }
   },
   "id": "78f68c6c6163b074",
   "execution_count": 50
  },
  {
   "cell_type": "code",
   "outputs": [],
   "source": [
    "target_layers = pd.merge(upper_bounds, lower_bounds, on='Well identifier', how='outer')\n",
    "target_layers['Well identifier'] = target_layers['Well identifier'].astype(str)\n",
    "target_layers = target_layers[target_layers['Well identifier'].isin(well_idx)]\n"
   ],
   "metadata": {
    "collapsed": false,
    "ExecuteTime": {
     "end_time": "2024-04-05T14:37:06.552260Z",
     "start_time": "2024-04-05T14:37:06.531276Z"
    }
   },
   "id": "66028c8284cca06",
   "execution_count": 66
  },
  {
   "cell_type": "code",
   "outputs": [
    {
     "data": {
      "text/plain": "   Well identifier    upper    lower\n1               12 -2161.95 -2183.98\n2               13 -2158.72 -2175.36\n3               14 -2170.38 -2190.59\n4               15 -2170.84 -2188.69\n5               16 -2157.70 -2178.94\n6               17 -2150.80 -2171.09\n7               18 -2146.87 -2167.39\n8               19 -2129.24 -2150.87\n9               20 -2141.56 -2162.04\n10              22 -2129.92 -2146.85\n11              23 -2154.70 -2178.10\n12              24 -2131.91 -2154.01\n13              25 -2130.33 -2145.12\n14              26 -2119.19 -2132.92\n15              27 -2137.58 -2158.78\n16              28 -2107.03 -2130.64\n17              29 -2118.70 -2137.45\n18              30 -2133.92 -2162.74\n19              31 -2179.97 -2198.63\n21              33 -2200.22 -2220.50\n22              34 -2191.32 -2212.21\n23              35 -2183.09 -2203.41\n24              36 -2133.82 -2147.70\n25              37 -2111.92 -2123.15\n26              38 -2109.31 -2134.34\n27              39 -2120.59 -2146.35\n28              40 -2129.30 -2150.89\n29              41 -2127.34 -2143.80\n30              42 -2129.82 -2153.94\n31              43 -2103.37 -2124.84\n32              44 -2128.99 -2145.62\n33              45 -2100.55 -2113.85\n34              46 -2121.34 -2137.03\n35              47 -2134.41 -2153.98\n36              48 -2111.91 -2131.01\n37            K-10 -2152.20 -2175.50\n38           K-101 -2123.51 -2139.61\n41         K-24042 -2123.09 -2143.78\n43            K-37 -2108.62 -2131.33\n44            K-44 -2133.07 -2153.23\n47            K-66 -2138.28 -2158.44",
      "text/html": "<div>\n<style scoped>\n    .dataframe tbody tr th:only-of-type {\n        vertical-align: middle;\n    }\n\n    .dataframe tbody tr th {\n        vertical-align: top;\n    }\n\n    .dataframe thead th {\n        text-align: right;\n    }\n</style>\n<table border=\"1\" class=\"dataframe\">\n  <thead>\n    <tr style=\"text-align: right;\">\n      <th></th>\n      <th>Well identifier</th>\n      <th>upper</th>\n      <th>lower</th>\n    </tr>\n  </thead>\n  <tbody>\n    <tr>\n      <th>1</th>\n      <td>12</td>\n      <td>-2161.95</td>\n      <td>-2183.98</td>\n    </tr>\n    <tr>\n      <th>2</th>\n      <td>13</td>\n      <td>-2158.72</td>\n      <td>-2175.36</td>\n    </tr>\n    <tr>\n      <th>3</th>\n      <td>14</td>\n      <td>-2170.38</td>\n      <td>-2190.59</td>\n    </tr>\n    <tr>\n      <th>4</th>\n      <td>15</td>\n      <td>-2170.84</td>\n      <td>-2188.69</td>\n    </tr>\n    <tr>\n      <th>5</th>\n      <td>16</td>\n      <td>-2157.70</td>\n      <td>-2178.94</td>\n    </tr>\n    <tr>\n      <th>6</th>\n      <td>17</td>\n      <td>-2150.80</td>\n      <td>-2171.09</td>\n    </tr>\n    <tr>\n      <th>7</th>\n      <td>18</td>\n      <td>-2146.87</td>\n      <td>-2167.39</td>\n    </tr>\n    <tr>\n      <th>8</th>\n      <td>19</td>\n      <td>-2129.24</td>\n      <td>-2150.87</td>\n    </tr>\n    <tr>\n      <th>9</th>\n      <td>20</td>\n      <td>-2141.56</td>\n      <td>-2162.04</td>\n    </tr>\n    <tr>\n      <th>10</th>\n      <td>22</td>\n      <td>-2129.92</td>\n      <td>-2146.85</td>\n    </tr>\n    <tr>\n      <th>11</th>\n      <td>23</td>\n      <td>-2154.70</td>\n      <td>-2178.10</td>\n    </tr>\n    <tr>\n      <th>12</th>\n      <td>24</td>\n      <td>-2131.91</td>\n      <td>-2154.01</td>\n    </tr>\n    <tr>\n      <th>13</th>\n      <td>25</td>\n      <td>-2130.33</td>\n      <td>-2145.12</td>\n    </tr>\n    <tr>\n      <th>14</th>\n      <td>26</td>\n      <td>-2119.19</td>\n      <td>-2132.92</td>\n    </tr>\n    <tr>\n      <th>15</th>\n      <td>27</td>\n      <td>-2137.58</td>\n      <td>-2158.78</td>\n    </tr>\n    <tr>\n      <th>16</th>\n      <td>28</td>\n      <td>-2107.03</td>\n      <td>-2130.64</td>\n    </tr>\n    <tr>\n      <th>17</th>\n      <td>29</td>\n      <td>-2118.70</td>\n      <td>-2137.45</td>\n    </tr>\n    <tr>\n      <th>18</th>\n      <td>30</td>\n      <td>-2133.92</td>\n      <td>-2162.74</td>\n    </tr>\n    <tr>\n      <th>19</th>\n      <td>31</td>\n      <td>-2179.97</td>\n      <td>-2198.63</td>\n    </tr>\n    <tr>\n      <th>21</th>\n      <td>33</td>\n      <td>-2200.22</td>\n      <td>-2220.50</td>\n    </tr>\n    <tr>\n      <th>22</th>\n      <td>34</td>\n      <td>-2191.32</td>\n      <td>-2212.21</td>\n    </tr>\n    <tr>\n      <th>23</th>\n      <td>35</td>\n      <td>-2183.09</td>\n      <td>-2203.41</td>\n    </tr>\n    <tr>\n      <th>24</th>\n      <td>36</td>\n      <td>-2133.82</td>\n      <td>-2147.70</td>\n    </tr>\n    <tr>\n      <th>25</th>\n      <td>37</td>\n      <td>-2111.92</td>\n      <td>-2123.15</td>\n    </tr>\n    <tr>\n      <th>26</th>\n      <td>38</td>\n      <td>-2109.31</td>\n      <td>-2134.34</td>\n    </tr>\n    <tr>\n      <th>27</th>\n      <td>39</td>\n      <td>-2120.59</td>\n      <td>-2146.35</td>\n    </tr>\n    <tr>\n      <th>28</th>\n      <td>40</td>\n      <td>-2129.30</td>\n      <td>-2150.89</td>\n    </tr>\n    <tr>\n      <th>29</th>\n      <td>41</td>\n      <td>-2127.34</td>\n      <td>-2143.80</td>\n    </tr>\n    <tr>\n      <th>30</th>\n      <td>42</td>\n      <td>-2129.82</td>\n      <td>-2153.94</td>\n    </tr>\n    <tr>\n      <th>31</th>\n      <td>43</td>\n      <td>-2103.37</td>\n      <td>-2124.84</td>\n    </tr>\n    <tr>\n      <th>32</th>\n      <td>44</td>\n      <td>-2128.99</td>\n      <td>-2145.62</td>\n    </tr>\n    <tr>\n      <th>33</th>\n      <td>45</td>\n      <td>-2100.55</td>\n      <td>-2113.85</td>\n    </tr>\n    <tr>\n      <th>34</th>\n      <td>46</td>\n      <td>-2121.34</td>\n      <td>-2137.03</td>\n    </tr>\n    <tr>\n      <th>35</th>\n      <td>47</td>\n      <td>-2134.41</td>\n      <td>-2153.98</td>\n    </tr>\n    <tr>\n      <th>36</th>\n      <td>48</td>\n      <td>-2111.91</td>\n      <td>-2131.01</td>\n    </tr>\n    <tr>\n      <th>37</th>\n      <td>K-10</td>\n      <td>-2152.20</td>\n      <td>-2175.50</td>\n    </tr>\n    <tr>\n      <th>38</th>\n      <td>K-101</td>\n      <td>-2123.51</td>\n      <td>-2139.61</td>\n    </tr>\n    <tr>\n      <th>41</th>\n      <td>K-24042</td>\n      <td>-2123.09</td>\n      <td>-2143.78</td>\n    </tr>\n    <tr>\n      <th>43</th>\n      <td>K-37</td>\n      <td>-2108.62</td>\n      <td>-2131.33</td>\n    </tr>\n    <tr>\n      <th>44</th>\n      <td>K-44</td>\n      <td>-2133.07</td>\n      <td>-2153.23</td>\n    </tr>\n    <tr>\n      <th>47</th>\n      <td>K-66</td>\n      <td>-2138.28</td>\n      <td>-2158.44</td>\n    </tr>\n  </tbody>\n</table>\n</div>"
     },
     "execution_count": 69,
     "metadata": {},
     "output_type": "execute_result"
    }
   ],
   "source": [
    "target_layers"
   ],
   "metadata": {
    "collapsed": false,
    "ExecuteTime": {
     "end_time": "2024-04-05T14:37:28.055391Z",
     "start_time": "2024-04-05T14:37:28.036859Z"
    }
   },
   "id": "10bfb269755067fb",
   "execution_count": 69
  },
  {
   "cell_type": "code",
   "outputs": [],
   "source": [
    "def view_well(selected_well, target_layers=target_layers, relative_index=True):\n",
    "    if relative_index:\n",
    "        las = lasio.read(os.path.join(DATA_DIR, f\"{target_layers.iloc[selected_well]['Well identifier']}_continuous.las\"))\n",
    "        target_layer_idx = np.where((las['Z'] < target_layers.iloc[selected_well].upper) & (las['Z'] > target_layers.iloc[selected_well].lower))\n",
    "    else:\n",
    "        las = lasio.read(os.path.join(DATA_DIR, f\"{selected_well}_continuous.las\"))\n",
    "        target_layer_idx = np.where((las['Z'] < target_layers.loc[target_layers['Well identifier'] == selected_well].upper.values) & (las['Z'] > target_layers.loc[target_layers['Well identifier'] == selected_well].lower.values))\n",
    "    plt.figure(figsize=(12, 4))\n",
    "    plt.subplot(121)\n",
    "    try:\n",
    "        plt.plot(las[\"DEPT\"][target_layer_idx], las[\"NEU\"][target_layer_idx])\n",
    "    except KeyError:\n",
    "        print(\"No NEU measurements in target layer\")\n",
    "    plt.xlabel(\"Depth\")\n",
    "    plt.ylabel(\"NEU\")\n",
    "    plt.subplot(122)\n",
    "    try:\n",
    "        plt.plot(las[\"DEPT\"][target_layer_idx], las[\"GGKP\"][target_layer_idx])\n",
    "    except KeyError:\n",
    "        print(\"No GGKP measurements in target layer\")\n",
    "    plt.xlabel(\"Depth\")\n",
    "    plt.ylabel(\"GGKP\")\n",
    "    plt.show()"
   ],
   "metadata": {
    "collapsed": false,
    "ExecuteTime": {
     "end_time": "2024-04-05T15:03:37.502609Z",
     "start_time": "2024-04-05T15:03:37.492126Z"
    }
   },
   "id": "5e61a4ea55fd0d53",
   "execution_count": 107
  },
  {
   "cell_type": "code",
   "outputs": [
    {
     "name": "stdout",
     "output_type": "stream",
     "text": [
      "No NEU measurements in target layer\n"
     ]
    },
    {
     "data": {
      "text/plain": "<Figure size 1200x400 with 2 Axes>",
      "image/png": "[encoded data removed]"
     },
     "metadata": {},
     "output_type": "display_data"
    }
   ],
   "source": [
    "view_well(6)"
   ],
   "metadata": {
    "collapsed": false,
    "ExecuteTime": {
     "end_time": "2024-04-05T15:03:38.674184Z",
     "start_time": "2024-04-05T15:03:38.216320Z"
    }
   },
   "id": "9e4c60fc21a590b6",
   "execution_count": 108
  },
  {
   "cell_type": "markdown",
   "source": [
    "мысль - свёртки"
   ],
   "metadata": {
    "collapsed": false
   },
   "id": "765a1da5bc4f3c3c"
  },
  {
   "cell_type": "markdown",
   "source": [
    "depth - длина по стволу - по кривой\n",
    "sstvd - абсолютная переведённая\n",
    "z - от моря\n",
    "одна положительная другая отрицательная разницы нет\n",
    "лучше либо 2 либо 3\n",
    "\n",
    "ggkp - гамма каротаж - фоновое гамма излучение\n",
    "\n",
    "отбивки - границы пласта(субгоризонтальная бурная порода) - точка входа и выхода из целевого пласта - остальное неинтересно\n",
    "Z - тот же столбик\n",
    "MD - глубина\n",
    "\n",
    "дискретные файлы\n",
    "facies - ручная разметка вручную\n",
    "log9 - обонзачает то же самое, просто укрупленная, достаточно одной\n",
    "когда пересекаем глубину начинается код N\n",
    "\n",
    "\n",
    "neu - нейтронный каротаж - неважно? можно по одной, но с этой +\n",
    "\n",
    "\n",
    "\n",
    "суть задачи\n",
    "\n",
    "- кластеризация всех скважин в пределах пластов по форме гамма и второго каротажа\n",
    "- дальше сложнее: кластеризация кусков формы внутри пласта. То есть каждый график разбить на кусочки - берутся из дискретности. Не\n",
    "- - Не всегда размечены именно формы, какой-то информации у нас может не быть\n",
    "- - Цель - не 100% совпадение с разметкой ручной\n",
    "- - Скользящее окно не дало плодов, проблемы - шум, интересуют крупные, на каждую скважину не более 3\n",
    "\n",
    "отобразить, посмотреть, обрезать по пласту, поискать основные формы, описаны в какой-тио методике - простейшие геометрические - коробки, пирамиды, воронки\n",
    "по второй - сложно непонятно"
   ],
   "metadata": {
    "collapsed": false
   },
   "id": "21baa29b40f6430e"
  }
 ],
 "metadata": {
  "kernelspec": {
   "display_name": "Python 3",
   "language": "python",
   "name": "python3"
  },
  "language_info": {
   "codemirror_mode": {
    "name": "ipython",
    "version": 2
   },
   "file_extension": ".py",
   "mimetype": "text/x-python",
   "name": "python",
   "nbconvert_exporter": "python",
   "pygments_lexer": "ipython2",
   "version": "2.7.6"
  }
 },
 "nbformat": 4,
 "nbformat_minor": 5
}
